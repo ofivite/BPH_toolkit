{
 "cells": [
  {
   "cell_type": "markdown",
   "metadata": {},
   "source": [
    "## **DataExplorer tutorial**"
   ]
  },
  {
   "cell_type": "markdown",
   "metadata": {},
   "source": [
    "```DataExplorer()``` is a class created with intention of simplifying the daily fitting routine, which one is usually faced with while doing B-physics analyses.\n",
    "The structure of the framework is pretty simple: \n",
    "* basic methods are implemented in ```DataExplorer()``` class:\n",
    "    * unbinned or binned $\\chi^2$-fitting\n",
    "    * plotting of data and model on the frame\n",
    "    * regions (e.g. signal/sideband) setting and plotting\n",
    "    * writing/extracting from a RooWorkspace\n",
    "    * **bonus**: fix_shapes() method to _automatically_ set and fix all the parameters of the model to the corresponding ones in the workspaces (these are usually the models one obtained from the MC simulation)\n",
    "* additional fancy functionality for permorming statistical inference is added through ```StatTools()``` class, which is a parent of ```DataExplorer()```:\n",
    "    * $\\chi^2$ goodness-of-fit test\n",
    "    * asymptotic methods for calculating signal significance\n",
    "    * signal significance calculation by generating toys from bkgr only hypothesis and fitting with s+b model to obtain test statistic distribution\n",
    "    * plotting of pull distribution $\\frac{data - model}{error(data)}$ to verify fit quality\n",
    "    * plotting likelihood profiles for a parameter of interest\n",
    "    * checking of the bias in the fit by generating toys from the data, fitting and accumulating fit parameter values.\n",
    "    \n",
    "It is assumed that the communication between these two classes will be mostly through RooWorkspace() objects. It is not perpect and not implemented throughout consistently, so there is some room for improvement.\n",
    "\n",
    "Some methods (e.g. ```extract_from_workspace()```) are made static for the sake of code's clarity. This therefore requires usage of ```@classmethod``` here and there to pass these methods up the inheritance tree to the ```StatTools()``` class.\n",
    "\n",
    "For more details on the implementation please refer to the source code in this directory."
   ]
  },
  {
   "cell_type": "code",
   "execution_count": 1,
   "metadata": {},
   "outputs": [
    {
     "name": "stdout",
     "output_type": "stream",
     "text": [
      "Welcome to JupyROOT 6.14/04\n",
      "\n",
      "\n",
      "         ~~~\n",
      "\n",
      "\n"
     ]
    }
   ],
   "source": [
    "from DataExplorer import DataExplorer\n",
    "import ROOT\n",
    "from ROOT import RooFit as RF\n",
    "\n",
    "ROOT.RooMsgService.instance().setSilentMode(True) # silencing the fit output\n",
    "ROOT.RooMsgService.instance().setStreamStatus(1,False) # this might be way too quiet\n",
    "ROOT.RooMsgService.instance().setGlobalKillBelow(RF.WARNING) # more silence"
   ]
  },
  {
   "cell_type": "code",
   "execution_count": 2,
   "metadata": {},
   "outputs": [],
   "source": [
    "N_GEN = 1000 # number of events to generate\n",
    "SIG_FRACTION = 0.1 # fraction of the signal component\n",
    "chi2_results = {}"
   ]
  },
  {
   "cell_type": "markdown",
   "metadata": {},
   "source": [
    "#### **Observable**"
   ]
  },
  {
   "cell_type": "code",
   "execution_count": 3,
   "metadata": {},
   "outputs": [],
   "source": [
    "m = ROOT.RooRealVar(\"m\", \"mass [GeV]\", 5.2, 5.3)\n",
    "m.setBins(50)"
   ]
  },
  {
   "cell_type": "markdown",
   "metadata": {},
   "source": [
    "#### **Parameters**"
   ]
  },
  {
   "cell_type": "markdown",
   "metadata": {},
   "source": [
    "don't hesitate to tune them!"
   ]
  },
  {
   "cell_type": "code",
   "execution_count": 4,
   "metadata": {},
   "outputs": [],
   "source": [
    "exp_par = ROOT.RooRealVar(\"exp_par\", \"#lambda\", -5., -50, 1.) # parameter of the exponential background model\n",
    "mean = ROOT.RooRealVar(\"mean\", \"mean [GeV]\", 5.25, 5.2, 5.3) # mean of the signal Gaussian\n",
    "sigma = ROOT.RooRealVar(\"sigma\", \"#sigma [GeV]\", 0.005, 0.001, 0.05) # sigma of the signal Gaussian\n",
    "\n",
    "fraction = ROOT.RooRealVar('fraction', 'fraction', SIG_FRACTION)  # used only for data generation here\n",
    "N_sig = ROOT.RooRealVar('N_sig', 'N_{sig}', 100, 0, N_GEN)\n",
    "N_bkgr = ROOT.RooRealVar('N_bkgr', 'N_{bkgr}', 1000., 0, N_GEN)"
   ]
  },
  {
   "cell_type": "markdown",
   "metadata": {},
   "source": [
    "#### **PDFs**\n"
   ]
  },
  {
   "cell_type": "markdown",
   "metadata": {},
   "source": [
    "and play with various models too!"
   ]
  },
  {
   "cell_type": "code",
   "execution_count": 5,
   "metadata": {},
   "outputs": [],
   "source": [
    "sig = ROOT.RooGaussian(\"sig\", \"sig\", m, mean, sigma) #  by convention signal component label should begin with 'sig' \n",
    "bkgr = ROOT.RooExponential(\"bkgr\", \"bkgr\", m, exp_par) # and background - with 'bkgr'"
   ]
  },
  {
   "cell_type": "markdown",
   "metadata": {},
   "source": [
    "for the sake of simplicity it's more convenient to use fraction model for generating events and controlling signal fraction:"
   ]
  },
  {
   "cell_type": "code",
   "execution_count": 6,
   "metadata": {},
   "outputs": [],
   "source": [
    "model_gen = ROOT.RooAddPdf(\"model_gen\", \"model_gen\", ROOT.RooArgList(sig, bkgr), ROOT.RooArgList(fraction)) \n",
    "model = ROOT.RooAddPdf('model', 'model', ROOT.RooArgList(sig, bkgr), ROOT.RooArgList(N_sig, N_bkgr))"
   ]
  },
  {
   "cell_type": "markdown",
   "metadata": {},
   "source": [
    "#### **Sample N_GEN events**"
   ]
  },
  {
   "cell_type": "code",
   "execution_count": 7,
   "metadata": {},
   "outputs": [],
   "source": [
    "data = model_gen.generate(ROOT.RooArgSet(m), N_GEN)\n",
    "data = data.reduce(f'{m.GetName()} > {m.getMin()} && {m.GetName()} < {m.getMax()}') # just to be sure"
   ]
  },
  {
   "cell_type": "markdown",
   "metadata": {},
   "source": [
    "#### **Fit and plot**"
   ]
  },
  {
   "cell_type": "markdown",
   "metadata": {},
   "source": [
    "_Note:_ you can always look up the function's definition and its parameters by pressing ```Shift+Tab``` with a cursor being inside of the function brackets."
   ]
  },
  {
   "cell_type": "code",
   "execution_count": 8,
   "metadata": {},
   "outputs": [],
   "source": [
    "DE = DataExplorer(label='test', data=data, model=model)"
   ]
  },
  {
   "cell_type": "markdown",
   "metadata": {},
   "source": [
    "There is a bit of fitting handwaving funcionality in fit() method, namely fixing and releasing some of the parameters to get better convergence in case of difficult fits.\n",
    "Also if one is faced with weighted data (e.g. after doing sPlot), one control the fitting errors with ```is_sum_w2``` parameter (if data is weighted it is set to ```True``` by default)\n",
    "\n",
    "There is also an option of binned $\\chi^2$ fitting with additional MINOS method to calculate asymmetric errors included (only in ```chi2_fit()``` so far)."
   ]
  },
  {
   "cell_type": "code",
   "execution_count": 9,
   "metadata": {},
   "outputs": [
    {
     "name": "stdout",
     "output_type": "stream",
     "text": [
      "\n",
      "  RooFitResult: minimized FCN value: -8243.27, estimated distance to minimum: 3.18559e-07\n",
      "                covariance matrix quality: Full, accurate covariance matrix\n",
      "                Status : MINIMIZE=0 HESSE=0 \n",
      "\n",
      "    Floating Parameter    FinalValue +/-  Error   \n",
      "  --------------------  --------------------------\n",
      "                N_bkgr    8.6506e+02 +/-  3.80e+01\n",
      "                 N_sig    1.3495e+02 +/-  2.68e+01\n",
      "               exp_par   -6.2618e+00 +/-  1.25e+00\n",
      "                  mean    5.2522e+00 +/-  1.51e-03\n",
      "                 sigma    7.6938e-03 +/-  1.47e-03\n",
      "\n"
     ]
    }
   ],
   "source": [
    "fit_results = DE.fit(fix_float=[exp_par])\n",
    "# fit_results = DE.chi2_fit() # or using binned chi2 minimisation"
   ]
  },
  {
   "cell_type": "code",
   "execution_count": 10,
   "metadata": {},
   "outputs": [
    {
     "data": {
      "image/png": "[encoded data removed]",
      "text/plain": [
       "<IPython.core.display.Image object>"
      ]
     },
     "metadata": {},
     "output_type": "display_data"
    }
   ],
   "source": [
    "c = ROOT.TCanvas()\n",
    "frame = DE.plot_on_frame('data distribution', plot_params=ROOT.RooArgSet(N_sig, N_bkgr, mean, sigma), nbins=25)\n",
    "frame.Draw()\n",
    "c.Draw()"
   ]
  },
  {
   "cell_type": "markdown",
   "metadata": {},
   "source": [
    "#### **$\\chi^2$ goodness-of-fit test + fit convergence status check**"
   ]
  },
  {
   "cell_type": "markdown",
   "metadata": {},
   "source": [
    "After doing calling the ```fit()``` method a ```fit_status``` flag is set to reflect the fit convergence. The same thing holds for ```chi2_test_status``` after calling ```chi2_test()``` method. $0$ means that everything is OK, over than $0$ that there are some problems."
   ]
  },
  {
   "cell_type": "code",
   "execution_count": 11,
   "metadata": {},
   "outputs": [
    {
     "name": "stdout",
     "output_type": "stream",
     "text": [
      "chi2: 39.78664688246834\n",
      "ndf: 45\n",
      "p-value of chi2 test: 0.6919098895469404\n",
      "\n",
      "fit status: 0, chi2_test status: 0\n"
     ]
    }
   ],
   "source": [
    "chi2_results = list(DE.chi2_test(pvalue_threshold=0.05, nbins=-1).values())[0]\n",
    "print(f'chi2: {chi2_results[0]}\\nndf: {chi2_results[1]}\\np-value of chi2 test: {chi2_results[2]}\\n')\n",
    "print(f'fit status: {DE.fit_status}, chi2_test status: {DE.chi2_test_status}')"
   ]
  },
  {
   "cell_type": "markdown",
   "metadata": {},
   "source": [
    "#### **Make pull distribution for the fit**"
   ]
  },
  {
   "cell_type": "markdown",
   "metadata": {},
   "source": [
    "One can also plot the pull distribution $\\frac{data - model}{error(data)}$ to check that the model describes the data well. Normally, if data points are withing $3\\sigma$ away from $0$, the fit is good."
   ]
  },
  {
   "cell_type": "code",
   "execution_count": 12,
   "metadata": {},
   "outputs": [
    {
     "data": {
      "image/png": "[encoded data removed]",
      "text/plain": [
       "<IPython.core.display.Image object>"
      ]
     },
     "metadata": {},
     "output_type": "display_data"
    }
   ],
   "source": [
    "c_pull = ROOT.TCanvas()\n",
    "frame_pull = DE.plot_pull()\n",
    "frame_pull.Draw()\n",
    "c_pull.Draw()"
   ]
  },
  {
   "cell_type": "markdown",
   "metadata": {},
   "source": [
    "#### **Plot likelihood profiles**"
   ]
  },
  {
   "cell_type": "markdown",
   "metadata": {},
   "source": [
    "It is possible to plot likelihoods for a give parameter of interest (e.g. number of signal events) and also a profiled to all nuisance parameters version. This might be useful to in checking the effect of systematics (by comparing profiled and nominal likelihoods) and estimating uncertainties of the parameters.\n",
    "\n",
    "And this may take a while..."
   ]
  },
  {
   "cell_type": "code",
   "execution_count": 13,
   "metadata": {},
   "outputs": [
    {
     "data": {
      "image/png": "[encoded data removed]",
      "text/plain": [
       "<IPython.core.display.Image object>"
      ]
     },
     "metadata": {},
     "output_type": "display_data"
    }
   ],
   "source": [
    "c_ll = ROOT.TCanvas()\n",
    "frame_ll = DE.plot_ll(poi=N_sig)\n",
    "frame_ll.Draw()\n",
    "c_ll.Draw()"
   ]
  },
  {
   "cell_type": "markdown",
   "metadata": {},
   "source": [
    "Yeah, this is a weird one"
   ]
  },
  {
   "cell_type": "markdown",
   "metadata": {},
   "source": [
    "#### **Check whether there is bias in the fit**"
   ]
  },
  {
   "cell_type": "markdown",
   "metadata": {},
   "source": [
    "Another important fit quality crosscheck is to generate toys from the fitted model and then fit each toy sample with the model which is to be checked. During this procedure the fit results (value and error) for the ```param_to_study``` will be aggregated and than shown as a histogram. The most informative plot is a pull histogram $\\frac{\\text{param}_{fit} - \\text{param}_{true}}{\\sigma(\\text{param})}$ which under normal behaviour should be a Gaussian distributed with $\\text{mean}=0$ and $\\sigma=1$.\n",
    "\n",
    "And this might take a while..."
   ]
  },
  {
   "cell_type": "code",
   "execution_count": 14,
   "metadata": {},
   "outputs": [
    {
     "name": "stdout",
     "output_type": "stream",
     "text": [
      "RooMCStudy: now generating 950 events\n",
      "RooMCStudy: now generating 982 events\n",
      "RooMCStudy: now generating 1007 events\n",
      "RooMCStudy: now generating 1006 events\n",
      "RooMCStudy: now generating 998 events\n",
      "RooMCStudy: now generating 952 events\n",
      "RooMCStudy: now generating 1027 events\n",
      "RooMCStudy: now generating 1016 events\n",
      "RooMCStudy: now generating 1008 events\n",
      "RooMCStudy: now generating 1015 events\n",
      "RooMCStudy: now generating 1007 events\n",
      "RooMCStudy: now generating 989 events\n",
      "RooMCStudy: now generating 1030 events\n",
      "RooMCStudy: now generating 992 events\n",
      "RooMCStudy: now generating 998 events\n",
      "RooMCStudy: now generating 1022 events\n",
      "RooMCStudy: now generating 989 events\n",
      "RooMCStudy: now generating 965 events\n",
      "RooMCStudy: now generating 1025 events\n",
      "RooMCStudy: now generating 974 events\n",
      "RooMCStudy: now generating 1001 events\n",
      "RooMCStudy: now generating 994 events\n",
      "RooMCStudy: now generating 985 events\n",
      "RooMCStudy: now generating 998 events\n",
      "RooMCStudy: now generating 959 events\n",
      "RooMCStudy: now generating 983 events\n",
      "RooMCStudy: now generating 1067 events\n",
      "RooMCStudy: now generating 993 events\n",
      "RooMCStudy: now generating 977 events\n",
      "RooMCStudy: now generating 999 events\n",
      "RooMCStudy: now generating 1017 events\n",
      "RooMCStudy: now generating 1039 events\n",
      "RooMCStudy: now generating 1011 events\n",
      "RooMCStudy: now generating 955 events\n",
      "RooMCStudy: now generating 1055 events\n",
      "RooMCStudy: now generating 1015 events\n",
      "RooMCStudy: now generating 1024 events\n",
      "RooMCStudy: now generating 1021 events\n",
      "RooMCStudy: now generating 1004 events\n",
      "RooMCStudy: now generating 954 events\n",
      "RooMCStudy: now generating 1005 events\n",
      "RooMCStudy: now generating 1074 events\n",
      "RooMCStudy: now generating 1008 events\n",
      "RooMCStudy: now generating 963 events\n",
      "RooMCStudy: now generating 981 events\n",
      "RooMCStudy: now generating 997 events\n",
      "RooMCStudy: now generating 993 events\n",
      "RooMCStudy: now generating 977 events\n",
      "RooMCStudy: now generating 957 events\n",
      "RooMCStudy: now generating 965 events\n",
      "RooMCStudy: now generating 986 events\n",
      "RooMCStudy: now generating 1080 events\n",
      "RooMCStudy: now generating 991 events\n",
      "RooMCStudy: now generating 1011 events\n",
      "RooMCStudy: now generating 998 events\n",
      "RooMCStudy: now generating 1017 events\n",
      "RooMCStudy: now generating 1053 events\n",
      "RooMCStudy: now generating 967 events\n",
      "RooMCStudy: now generating 1000 events\n",
      "RooMCStudy: now generating 1004 events\n",
      "RooMCStudy: now generating 1057 events\n",
      "RooMCStudy: now generating 989 events\n",
      "RooMCStudy: now generating 1006 events\n",
      "RooMCStudy: now generating 981 events\n",
      "RooMCStudy: now generating 995 events\n",
      "RooMCStudy: now generating 974 events\n",
      "RooMCStudy: now generating 1003 events\n",
      "RooMCStudy: now generating 1024 events\n",
      "RooMCStudy: now generating 1019 events\n",
      "RooMCStudy: now generating 969 events\n",
      "RooMCStudy: now generating 982 events\n",
      "RooMCStudy: now generating 982 events\n",
      "RooMCStudy: now generating 1005 events\n",
      "RooMCStudy: now generating 973 events\n",
      "RooMCStudy: now generating 1055 events\n",
      "RooMCStudy: now generating 1022 events\n",
      "RooMCStudy: now generating 1037 events\n",
      "RooMCStudy: now generating 1034 events\n",
      "RooMCStudy: now generating 1002 events\n",
      "RooMCStudy: now generating 944 events\n",
      "RooMCStudy: now generating 1008 events\n",
      "RooMCStudy: now generating 954 events\n",
      "RooMCStudy: now generating 991 events\n",
      "RooMCStudy: now generating 1038 events\n",
      "RooMCStudy: now generating 1011 events\n",
      "RooMCStudy: now generating 964 events\n",
      "RooMCStudy: now generating 999 events\n",
      "RooMCStudy: now generating 998 events\n",
      "RooMCStudy: now generating 1025 events\n",
      "RooMCStudy: now generating 958 events\n",
      "RooMCStudy: now generating 997 events\n",
      "RooMCStudy: now generating 972 events\n",
      "RooMCStudy: now generating 1000 events\n",
      "RooMCStudy: now generating 972 events\n",
      "RooMCStudy: now generating 986 events\n",
      "RooMCStudy: now generating 991 events\n",
      "RooMCStudy: now generating 978 events\n",
      "RooMCStudy: now generating 1009 events\n",
      "RooMCStudy: now generating 996 events\n",
      "RooMCStudy: now generating 955 events\n",
      "[#0] ERROR:InputArguments -- RooAbsPdf::fitTo(pullGauss) ERROR: unrecognized command: mh\n"
     ]
    },
    {
     "data": {
      "image/png": "[encoded data removed]",
      "text/plain": [
       "<IPython.core.display.Image object>"
      ]
     },
     "metadata": {},
     "output_type": "display_data"
    },
    {
     "data": {
      "image/png": "[encoded data removed]",
      "text/plain": [
       "<IPython.core.display.Image object>"
      ]
     },
     "metadata": {},
     "output_type": "display_data"
    },
    {
     "data": {
      "image/png": "[encoded data removed]",
      "text/plain": [
       "<IPython.core.display.Image object>"
      ]
     },
     "metadata": {},
     "output_type": "display_data"
    }
   ],
   "source": [
    "frame_var, frame_err, frame_pull = DE.check_fit_bias(param_to_study=N_sig, N_toys=100, verbose=False)\n",
    "c_var = ROOT.TCanvas()\n",
    "frame_var.Draw()\n",
    "c_error = ROOT.TCanvas()\n",
    "frame_err.Draw()\n",
    "c_pull = ROOT.TCanvas()\n",
    "frame_pull.Draw()\n",
    "\n",
    "c_var.Draw()\n",
    "c_error.Draw()\n",
    "c_pull.Draw()"
   ]
  },
  {
   "cell_type": "markdown",
   "metadata": {},
   "source": [
    "#### #1 **Calculate statistical significance of signal observation**"
   ]
  },
  {
   "cell_type": "markdown",
   "metadata": {},
   "source": [
    "There are two methods to calculate significance of the observation. Both use loglikelihood ratio as a test statistic and its asymptotic $\\chi^2$ approximation. The first one is implemented with a RooStats' ```AsymptoticCalculator()```, the second one is written by hand (and allows for more fit control) with calculating loglikelihoods and using some formulas to get the p-value. For more details on theory please have a look at [this must-read paper](https://arxiv.org/abs/1007.1727) and the source code for the details of implementation.\n",
    "\n",
    "Statistical methods as input mostly need a  ```RooWorkspace()``` object which stores the data and the model. The latter can be exported from the ```DataExplorer()``` instance with a ```write_to_workspace()``` method."
   ]
  },
  {
   "cell_type": "code",
   "execution_count": 15,
   "metadata": {},
   "outputs": [],
   "source": [
    "w = DE.write_to_workspace(poi=N_sig, nuisances= [exp_par, mean, sigma, N_bkgr])"
   ]
  },
  {
   "cell_type": "code",
   "execution_count": 16,
   "metadata": {},
   "outputs": [
    {
     "name": "stdout",
     "output_type": "stream",
     "text": [
      "AsymptoticCalculator::EvaluateNLL  ........ using Minuit / Migrad with strategy  1 and tolerance 1\n",
      " **********\n",
      " **    1 **SET PRINT           0\n",
      " **********\n",
      " **********\n",
      " **    2 **SET NOGRAD\n",
      " **********\n",
      " PARAMETER DEFINITIONS:\n",
      "    NO.   NAME         VALUE      STEP SIZE      LIMITS\n",
      "     1 N_bkgr       7.70424e+02  5.85284e+01    0.00000e+00  1.00000e+03\n",
      "     2 N_sig        1.84587e+02  5.33334e+01    0.00000e+00  1.00000e+03\n",
      "     3 exp_par     -1.02722e+01  1.89170e+00   -5.00000e+01  1.00000e+00\n",
      "     4 mean         5.25347e+00  2.85313e-03    5.20000e+00  5.30000e+00\n",
      "     5 sigma        1.44896e-02  3.23534e-03    1.00000e-03  5.00000e-02\n",
      " **********\n",
      " **    3 **SET ERR         0.5\n",
      " **********\n",
      " **********\n",
      " **    4 **SET PRINT           0\n",
      " **********\n",
      " **********\n",
      " **    5 **SET STR           1\n",
      " **********\n",
      " **********\n",
      " **    6 **MIGRAD        2500           1\n",
      " **********\n",
      " MIGRAD MINIMIZATION HAS CONVERGED.\n",
      " MIGRAD WILL VERIFY CONVERGENCE AND ERROR MATRIX.\n",
      " FCN=-8243.27 FROM MIGRAD    STATUS=CONVERGED     154 CALLS         155 TOTAL\n",
      "                     EDM=5.1654e-05    STRATEGY= 1      ERROR MATRIX ACCURATE \n",
      "  EXT PARAMETER                                   STEP         FIRST   \n",
      "  NO.   NAME      VALUE            ERROR          SIZE      DERIVATIVE \n",
      "   1  N_bkgr       8.64993e+02   3.78288e+01   5.61949e-03  -4.52184e-02\n",
      "   2  N_sig        1.34866e+02   2.66668e+01   3.58108e-03  -6.78480e-02\n",
      "   3  exp_par     -6.25745e+00   1.24873e+00   4.20578e-03   3.41586e-02\n",
      "   4  mean         5.25215e+00   1.50504e-03   1.82325e-03  -1.31973e-01\n",
      "   5  sigma        7.69094e-03   1.46353e-03   4.43444e-03   1.53807e-03\n",
      "                               ERR DEF= 0.5\n",
      "AsymptoticCalculator::EvaluateNLL -  value = -8243.27\tfit time : Real time 0:00:00, CP time 0.060\n",
      "MakeAsimov: Setting poi N_sig to a constant value = 184.587\n",
      "MakeAsimov: doing a conditional fit for finding best nuisance values \n",
      " **********\n",
      " **    1 **SET PRINT           0\n",
      " **********\n",
      " **********\n",
      " **    2 **SET NOGRAD\n",
      " **********\n",
      " PARAMETER DEFINITIONS:\n",
      "    NO.   NAME         VALUE      STEP SIZE      LIMITS\n",
      "     1 N_bkgr       8.64993e+02  3.78288e+01    0.00000e+00  1.00000e+03\n",
      "     2 exp_par     -6.25745e+00  1.24873e+00   -5.00000e+01  1.00000e+00\n",
      "     3 mean         5.25215e+00  1.50504e-03    5.20000e+00  5.30000e+00\n",
      "     4 sigma        7.69094e-03  1.46353e-03    1.00000e-03  5.00000e-02\n",
      " **********\n",
      " **    3 **SET ERR         0.5\n",
      " **********\n",
      " **********\n",
      " **    4 **SET PRINT           0\n",
      " **********\n",
      " **********\n",
      " **    5 **SET STR           1\n",
      " **********\n",
      " **********\n",
      " **    6 **MIGRAD        2000           1\n",
      " **********\n",
      " MIGRAD MINIMIZATION HAS CONVERGED.\n",
      " MIGRAD WILL VERIFY CONVERGENCE AND ERROR MATRIX.\n",
      " FCN=-8241.78 FROM MIGRAD    STATUS=CONVERGED      77 CALLS          78 TOTAL\n",
      "                     EDM=5.86483e-06    STRATEGY= 1      ERROR MATRIX ACCURATE \n",
      "  EXT PARAMETER                                   STEP         FIRST   \n",
      "  NO.   NAME      VALUE            ERROR          SIZE      DERIVATIVE \n",
      "   1  N_bkgr       8.25712e+02   3.10973e+01   5.08234e-03  -5.17659e-04\n",
      "   2  exp_par     -6.75297e+00   1.27427e+00   4.23605e-03  -2.58553e-02\n",
      "   3  mean         5.25239e+00   1.49840e-03   1.82649e-03  -4.81354e-02\n",
      "   4  sigma        9.27259e-03   1.32647e-03   4.48364e-03   1.79293e-02\n",
      "                               ERR DEF= 0.5\n",
      "fit time Real time 0:00:00, CP time 0.030\n",
      "RooDataSet::AsimovData[m,weight:binWeightAsimov] = 50 entries (1010.29 weighted)\n",
      "Generated Asimov data for observables RooArgSet:: = (m)\n",
      "AsymptoticCalculator::EvaluateNLL  ........ using Minuit / Migrad with strategy  1 and tolerance 1\n",
      " **********\n",
      " **    7 **SET PRINT           0\n",
      " **********\n",
      " **********\n",
      " **    8 **SET NOGRAD\n",
      " **********\n",
      " PARAMETER DEFINITIONS:\n",
      "    NO.   NAME         VALUE      STEP SIZE      LIMITS\n",
      "     1 N_bkgr       8.25712e+02  3.10973e+01    0.00000e+00  1.00000e+03\n",
      "     2 exp_par     -6.75297e+00  1.27427e+00   -5.00000e+01  1.00000e+00\n",
      "     3 mean         5.25239e+00  1.49840e-03    5.20000e+00  5.30000e+00\n",
      "     4 sigma        9.27259e-03  1.32647e-03    1.00000e-03  5.00000e-02\n",
      " **********\n",
      " **    9 **SET ERR         0.5\n",
      " **********\n",
      " **********\n",
      " **   10 **SET PRINT           0\n",
      " **********\n",
      " **********\n",
      " **   11 **SET STR           1\n",
      " **********\n",
      " **********\n",
      " **   12 **MIGRAD        2000           1\n",
      " **********\n",
      " MIGRAD MINIMIZATION HAS CONVERGED.\n",
      " MIGRAD WILL VERIFY CONVERGENCE AND ERROR MATRIX.\n",
      " FCN=-8347.44 FROM MIGRAD    STATUS=CONVERGED      47 CALLS          48 TOTAL\n",
      "                     EDM=4.59878e-07    STRATEGY= 1      ERROR MATRIX ACCURATE \n",
      "  EXT PARAMETER                                   STEP         FIRST   \n",
      "  NO.   NAME      VALUE            ERROR          SIZE      DERIVATIVE \n",
      "   1  N_bkgr       8.25711e+02   3.12111e+01   5.13967e-03   1.73281e-03\n",
      "   2  exp_par     -6.75033e+00   1.27558e+00   4.26130e-03  -2.24367e-03\n",
      "   3  mean         5.25239e+00   1.45272e-03   1.78019e-03   1.86730e-02\n",
      "   4  sigma        9.27288e-03   1.21217e-03   4.12361e-03   4.69174e-03\n",
      "                               ERR DEF= 0.5\n",
      "AsymptoticCalculator::EvaluateNLL -  value = -8347.44 for poi fixed at = 184.587\tfit time : Real time 0:00:00, CP time 0.000\n",
      "\n",
      "Results HypoTestAsymptotic_result: \n",
      " - Null p-value = 1.14608e-11\n",
      " - Significance = 6.68609\n",
      " - CL_b: 1.14608e-11\n",
      " - CL_s+b: 0.904551\n",
      " - CL_s: 7.89256e+10\n"
     ]
    }
   ],
   "source": [
    "asympt_rrr = DE.asympt_signif(w=w)"
   ]
  },
  {
   "cell_type": "markdown",
   "metadata": {},
   "source": [
    "#### #2 **Calculate statistical significance of signal observation**"
   ]
  },
  {
   "cell_type": "markdown",
   "metadata": {},
   "source": [
    "Another method, might be useful to crosscheck the p-values or tune the fit procedure."
   ]
  },
  {
   "cell_type": "code",
   "execution_count": 17,
   "metadata": {},
   "outputs": [
    {
     "name": "stdout",
     "output_type": "stream",
     "text": [
      "P = 2.292200049095311e-11\n",
      "S = 6.68608494665314\n",
      "nll_sig = -8243.26953651215\n",
      "nll_null = -8220.91767055522\n",
      "\n",
      "\n",
      "  RooFitResult: minimized FCN value: -8243.27, estimated distance to minimum: 4.55297e-06\n",
      "                covariance matrix quality: Full, accurate covariance matrix\n",
      "                Status : MINIMIZE=0 HESSE=0 \n",
      "\n",
      "    Floating Parameter    FinalValue +/-  Error   \n",
      "  --------------------  --------------------------\n",
      "                N_bkgr    8.6510e+02 +/-  3.80e+01\n",
      "                 N_sig    1.3490e+02 +/-  2.68e+01\n",
      "               exp_par   -6.2611e+00 +/-  1.25e+00\n",
      "                  mean    5.2522e+00 +/-  1.51e-03\n",
      "                 sigma    7.6924e-03 +/-  1.47e-03\n",
      "\n",
      "\n",
      "  RooFitResult: minimized FCN value: -8220.92, estimated distance to minimum: 1.01788e-05\n",
      "                covariance matrix quality: Approximation only, not accurate\n",
      "                Status : MINIMIZE=0 HESSE=0 \n",
      "\n",
      "    Floating Parameter    FinalValue +/-  Error   \n",
      "  --------------------  --------------------------\n",
      "                N_bkgr    1.0000e+03 +/-  7.87e+02\n",
      "               exp_par   -5.0544e+00 +/-  1.10e+00\n",
      "                  mean    5.2039e+00 +/-  1.93e-02\n",
      "                 sigma    7.6924e-03 +/-  1.42e-02\n",
      "\n"
     ]
    }
   ],
   "source": [
    "ar_dict = DE.asympt_signif_ll(w=w)\n",
    "for key, value in ar_dict.items():\n",
    "    print(f'{key} = {value}')\n",
    "print()"
   ]
  },
  {
   "cell_type": "markdown",
   "metadata": {},
   "source": [
    "#### #3 **Calculate signal significance with toys**"
   ]
  },
  {
   "cell_type": "markdown",
   "metadata": {},
   "source": [
    "Asymptotic methods are fast due to their closed-form solution and quite precise in the limit of large number of events. However, they are hardly reliable if the number of observed events is small (~10), since the $\\chi^2$ approximation of the test statistic does not hold anymore. The way out to get the distribution of the test statistic under the null hypothesis is to generate toys from the null hypothesis (background only model) and repeatedly calculate and accumulate the values of the test statistic, which is by default a loglikelihood ratio where likelihoods are maximised to data under the corresponding hypothesis.\n",
    "\n",
    "$$t = -2 \\log(\\dfrac{\\text{L}(\\vec{x}|\\text{H}_1)}{\\text{L}(\\vec{x}|\\text{H}_0)})$$\n",
    "\n",
    "This method is the most reliable when it comes to calculating p-values, but very slow, prone to statistical uncertainties and at times useless when it comes to estimating really small p-values - it will take long long time to reach the level of $5\\sigma$ without special tricks. That is why note that the returned p-value might be zero since if bkgr hypo is very unlikely it might require lots of toys to get to the observed value of test statistic.\n",
    "\n",
    "So this may take a while..."
   ]
  },
  {
   "cell_type": "code",
   "execution_count": 18,
   "metadata": {},
   "outputs": [
    {
     "name": "stdout",
     "output_type": "stream",
     "text": [
      "    ----> Doing a re-scan first\n",
      "    ----> Doing a re-scan first\n",
      "    ----> Doing a re-scan first\n",
      "    ----> Doing a re-scan first\n",
      "\n",
      "Results HypoTestCalculator_result: \n",
      " - Null p-value = 0 +/- 0\n",
      " - Significance = inf +/- -nan sigma\n",
      " - Number of Alt toys: 10\n",
      " - Number of Null toys: 100\n",
      " - Test statistic evaluated on data: 43.217\n",
      " - CL_b: 0 +/- 0\n",
      " - CL_s+b: 0.2 +/- 0.126491\n",
      " - CL_s: Error: Cannot compute CLs because CLb = 0. Returning CLs = -1\n",
      "-1 +/- -1\n"
     ]
    },
    {
     "data": {
      "image/png": "[encoded data removed]",
      "text/plain": [
       "<IPython.core.display.Image object>"
      ]
     },
     "metadata": {},
     "output_type": "display_data"
    }
   ],
   "source": [
    "c_toy_signif = ROOT.TCanvas()\n",
    "frame_toy_signif, _ = DE.toy_signif(w, n_toys_null = 100, n_toys_alt=10)\n",
    "frame_toy_signif.Draw()\n",
    "c_toy_signif.Draw()"
   ]
  },
  {
   "cell_type": "code",
   "execution_count": null,
   "metadata": {},
   "outputs": [],
   "source": []
  }
 ],
 "metadata": {
  "kernelspec": {
   "display_name": "Python 3",
   "language": "python",
   "name": "python3"
  },
  "language_info": {
   "codemirror_mode": {
    "name": "ipython",
    "version": 3
   },
   "file_extension": ".py",
   "mimetype": "text/x-python",
   "name": "python",
   "nbconvert_exporter": "python",
   "pygments_lexer": "ipython3",
   "version": "3.6.8"
  }
 },
 "nbformat": 4,
 "nbformat_minor": 4
}
